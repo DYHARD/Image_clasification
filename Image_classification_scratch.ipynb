{
 "cells": [
  {
   "cell_type": "markdown",
   "metadata": {
    "id": "7ztwthmd_ENq"
   },
   "source": []
  },
  {
   "cell_type": "markdown",
   "metadata": {
    "id": "kq98Srzb_7c6"
   },
   "source": []
  },
  {
   "cell_type": "markdown",
   "metadata": {
    "id": "uv6cZthvAJCv"
   },
   "source": []
  },
  {
   "cell_type": "markdown",
   "metadata": {
    "id": "z2EQWT-fAQ3_"
   },
   "source": []
  },
  {
   "cell_type": "markdown",
   "metadata": {
    "id": "o0ot-6hOAMIr"
   },
   "source": []
  },
  {
   "cell_type": "code",
   "execution_count": 1,
   "metadata": {
    "colab": {
     "base_uri": "https://localhost:8080/"
    },
    "id": "-bBjADEUZwAn",
    "outputId": "80bfb708-3715-449f-847c-b230aa1efef4"
   },
   "outputs": [
    {
     "name": "stdout",
     "output_type": "stream",
     "text": [
      "Requirement already satisfied: mnist==0.2.2 in c:\\users\\deepa\\anaconda3\\envs\\tensorflow\\lib\\site-packages (0.2.2)\n",
      "Requirement already satisfied: numpy in c:\\users\\deepa\\anaconda3\\envs\\tensorflow\\lib\\site-packages (from mnist==0.2.2) (1.21.5)\n",
      "Note: you may need to restart the kernel to use updated packages.\n"
     ]
    }
   ],
   "source": [
    "pip install mnist==0.2.2"
   ]
  },
  {
   "cell_type": "code",
   "execution_count": 2,
   "metadata": {
    "colab": {
     "base_uri": "https://localhost:8080/"
    },
    "id": "Y7sAQrAC-GNB",
    "outputId": "7bbfb098-b15d-466f-8bd8-3685dd66c978"
   },
   "outputs": [
    {
     "name": "stdout",
     "output_type": "stream",
     "text": [
      "(213, 28, 28) (211, 28, 28)\n",
      "\n",
      " labels or classes [0 1]\n"
     ]
    }
   ],
   "source": [
    "import mnist\n",
    "import numpy as np\n",
    "# here only use the first 1k examples of each set in the interest of time.\n",
    "# Feel free to change this if you want.\n",
    "train_images_1 = mnist.train_images()[:1000]\n",
    "train_labels_1 = mnist.train_labels()[:1000]\n",
    "test_images_1 = mnist.test_images()[:1000]\n",
    "test_labels_1 = mnist.test_labels()[:1000]\n",
    "\n",
    "train_images = []\n",
    "train_labels =[]\n",
    "test_images =[]\n",
    "test_labels = []\n",
    "for i in range(1000):\n",
    "  if train_labels_1[i]==1:\n",
    "    train_images.append(train_images_1[i])\n",
    "    train_labels.append(train_labels_1[i])\n",
    "  if test_labels_1[i] == 1:\n",
    "    test_images.append(test_images_1[i])\n",
    "    test_labels.append(test_labels_1[i])\n",
    "  if train_labels_1[i]==0:\n",
    "    train_images.append(train_images_1[i])\n",
    "    train_labels.append(train_labels_1[i])\n",
    "  if test_labels_1[i] == 0:\n",
    "    test_images.append(test_images_1[i])\n",
    "    test_labels.append(test_labels_1[i])\n",
    "\n",
    "train_images = np.asarray(train_images)\n",
    "test_images = np.asarray(test_images)\n",
    "train_labels = np.asarray(train_labels)\n",
    "test_labels = np.asarray(test_labels)\n",
    "print(train_images.shape, test_images.shape)\n",
    "print(\"\\n labels or classes\", np.unique(train_labels))"
   ]
  },
  {
   "cell_type": "code",
   "execution_count": 6,
   "metadata": {},
   "outputs": [
    {
     "data": {
      "text/plain": [
       "(213, 28, 28)"
      ]
     },
     "execution_count": 6,
     "metadata": {},
     "output_type": "execute_result"
    }
   ],
   "source": [
    "train_images.shape"
   ]
  },
  {
   "cell_type": "code",
   "execution_count": 7,
   "metadata": {},
   "outputs": [
    {
     "data": {
      "image/png": "[encoded data removed]",
      "text/plain": [
       "<Figure size 432x288 with 1 Axes>"
      ]
     },
     "metadata": {
      "needs_background": "light"
     },
     "output_type": "display_data"
    },
    {
     "data": {
      "image/png": "[encoded data removed]",
      "text/plain": [
       "<Figure size 432x288 with 1 Axes>"
      ]
     },
     "metadata": {
      "needs_background": "light"
     },
     "output_type": "display_data"
    },
    {
     "data": {
      "image/png": "[encoded data removed]",
      "text/plain": [
       "<Figure size 432x288 with 1 Axes>"
      ]
     },
     "metadata": {
      "needs_background": "light"
     },
     "output_type": "display_data"
    },
    {
     "data": {
      "image/png": "[encoded data removed]",
      "text/plain": [
       "<Figure size 432x288 with 1 Axes>"
      ]
     },
     "metadata": {
      "needs_background": "light"
     },
     "output_type": "display_data"
    },
    {
     "data": {
      "image/png": "[encoded data removed]",
      "text/plain": [
       "<Figure size 432x288 with 1 Axes>"
      ]
     },
     "metadata": {
      "needs_background": "light"
     },
     "output_type": "display_data"
    },
    {
     "data": {
      "image/png": "[encoded data removed]",
      "text/plain": [
       "<Figure size 432x288 with 1 Axes>"
      ]
     },
     "metadata": {
      "needs_background": "light"
     },
     "output_type": "display_data"
    },
    {
     "data": {
      "image/png": "[encoded data removed]",
      "text/plain": [
       "<Figure size 432x288 with 1 Axes>"
      ]
     },
     "metadata": {
      "needs_background": "light"
     },
     "output_type": "display_data"
    },
    {
     "data": {
      "image/png": "[encoded data removed]",
      "text/plain": [
       "<Figure size 432x288 with 1 Axes>"
      ]
     },
     "metadata": {
      "needs_background": "light"
     },
     "output_type": "display_data"
    }
   ],
   "source": [
    "from matplotlib import pyplot\n",
    "for i in range(8):  \n",
    "    pyplot.subplot(330 + 1 + i)\n",
    "    pyplot.imshow(train_images[i])\n",
    "    pyplot.show()"
   ]
  },
  {
   "cell_type": "markdown",
   "metadata": {
    "id": "AODzHs5a5CeC"
   },
   "source": []
  },
  {
   "cell_type": "code",
   "execution_count": 39,
   "metadata": {
    "id": "-bj3ObxrX6T8"
   },
   "outputs": [],
   "source": [
    "import numpy as np\n",
    "\n",
    "'''\n",
    "Note: In this implementation, we assume the input is a 2d numpy array for simplicity, because that's\n",
    "how our MNIST images are stored. This works for us because we use it as the first layer in our\n",
    "network, but most CNNs have many more Conv layers. If we were building a bigger network that needed\n",
    "to use Conv3x3 multiple times, we'd have to make the input be a 3d numpy array.\n",
    "'''\n",
    "\n",
    "class Conv3x3:\n",
    "  # A Convolution layer using 3x3 filters.\n",
    "\n",
    "  def __init__(self, num_filters):\n",
    "    self.num_filters = num_filters\n",
    "\n",
    "    # filters is a 3d array with dimensions (num_filters, 3, 3)\n",
    "    # We divide by 9 to reduce the variance of our initial values\n",
    "    self.filters = np.random.randn(num_filters, 3, 3) / 9\n",
    "\n",
    "  def iterate_regions(self, image):\n",
    "    '''\n",
    "    Generates all possible 3x3 image regions using valid padding.\n",
    "    - image is a 2d numpy array.\n",
    "    '''\n",
    "    h, w = image.shape\n",
    "\n",
    "    for i in range(h - 2):\n",
    "      for j in range(w - 2):\n",
    "        im_region = image[i:(i + 3), j:(j + 3)]\n",
    "        yield im_region, i, j\n",
    "\n",
    "  def forward(self, input):\n",
    "    '''\n",
    "    Performs a forward pass of the conv layer using the given input.\n",
    "    Returns a 3d numpy array with dimensions (h, w, num_filters).\n",
    "    - input is a 2d numpy array\n",
    "    '''\n",
    "    self.last_input = input\n",
    "\n",
    "    h, w = input.shape\n",
    "    output = np.zeros((h - 2, w - 2, self.num_filters))\n",
    "\n",
    "    for im_region, i, j in self.iterate_regions(input):\n",
    "      output[i, j] = np.sum(im_region * self.filters, axis=(1, 2))\n",
    "\n",
    "    return output\n",
    "\n",
    "  def backprop(self, d_L_d_out, learn_rate):\n",
    "    '''\n",
    "    Performs a backward pass of the conv layer.\n",
    "    - d_L_d_out is the loss gradient for this layer's outputs.\n",
    "    - learn_rate is a float.\n",
    "    '''\n",
    "    d_L_d_filters = np.zeros(self.filters.shape)\n",
    "\n",
    "    for im_region, i, j in self.iterate_regions(self.last_input):\n",
    "      for f in range(self.num_filters):\n",
    "        d_L_d_filters[f] += d_L_d_out[i, j, f] * im_region\n",
    "\n",
    "    # Update filters\n",
    "    self.filters -= learn_rate * d_L_d_filters\n",
    "\n",
    "    # We aren't returning anything here since we use Conv3x3 as the first layer in our CNN.\n",
    "    # Otherwise, we'd need to return the loss gradient for this layer's inputs, just like every\n",
    "    # other layer in our CNN.\n",
    "    return None"
   ]
  },
  {
   "cell_type": "markdown",
   "metadata": {
    "id": "SqM72GD07PSa"
   },
   "source": []
  },
  {
   "cell_type": "code",
   "execution_count": 40,
   "metadata": {
    "id": "YyMqmrUqYFP7"
   },
   "outputs": [],
   "source": [
    "import numpy as np\n",
    "\n",
    "class MaxPool2:\n",
    "  # A Max Pooling layer using a pool size of 2.\n",
    "\n",
    "  def iterate_regions(self, image):\n",
    "    '''\n",
    "    Generates non-overlapping 2x2 image regions to pool over.\n",
    "    - image is a 2d numpy array\n",
    "    '''\n",
    "    h, w, _ = image.shape\n",
    "    new_h = h // 2\n",
    "    new_w = w // 2\n",
    "\n",
    "    for i in range(new_h):\n",
    "      for j in range(new_w):\n",
    "        im_region = image[(i * 2):(i * 2 + 2), (j * 2):(j * 2 + 2)]\n",
    "        yield im_region, i, j\n",
    "\n",
    "  def forward(self, input):\n",
    "    '''\n",
    "    Performs a forward pass of the maxpool layer using the given input.\n",
    "    Returns a 3d numpy array with dimensions (h / 2, w / 2, num_filters).\n",
    "    - input is a 3d numpy array with dimensions (h, w, num_filters)\n",
    "    '''\n",
    "    self.last_input = input\n",
    "\n",
    "    h, w, num_filters = input.shape\n",
    "    output = np.zeros((h // 2, w // 2, num_filters))\n",
    "\n",
    "    for im_region, i, j in self.iterate_regions(input):\n",
    "      output[i, j] = np.amax(im_region, axis=(0, 1))\n",
    "\n",
    "    return output\n",
    "\n",
    "  def backprop(self, d_L_d_out):\n",
    "    '''\n",
    "    Performs a backward pass of the maxpool layer.\n",
    "    Returns the loss gradient for this layer's inputs.\n",
    "    - d_L_d_out is the loss gradient for this layer's outputs.\n",
    "    '''\n",
    "    d_L_d_input = np.zeros(self.last_input.shape)\n",
    "\n",
    "    for im_region, i, j in self.iterate_regions(self.last_input):\n",
    "      h, w, f = im_region.shape\n",
    "      amax = np.amax(im_region, axis=(0, 1))\n",
    "\n",
    "      for i2 in range(h):\n",
    "        for j2 in range(w):\n",
    "          for f2 in range(f):\n",
    "            # If this pixel was the max value, copy the gradient to it.\n",
    "            if im_region[i2, j2, f2] == amax[f2]:\n",
    "              d_L_d_input[i * 2 + i2, j * 2 + j2, f2] = d_L_d_out[i, j, f2]\n",
    "\n",
    "    return d_L_d_input"
   ]
  },
  {
   "cell_type": "markdown",
   "metadata": {
    "id": "baCfB3Ql9KAC"
   },
   "source": []
  },
  {
   "cell_type": "code",
   "execution_count": 41,
   "metadata": {
    "id": "umFrD4p4YMn1"
   },
   "outputs": [],
   "source": [
    "import numpy as np\n",
    "\n",
    "class Softmax:\n",
    "  # A standard fully-connected layer with softmax activation.\n",
    "\n",
    "  def __init__(self, input_len, nodes):\n",
    "    # We divide by input_len to reduce the variance of our initial values\n",
    "    self.weights = np.random.randn(input_len, nodes) / input_len\n",
    "    self.biases = np.zeros(nodes)\n",
    "\n",
    "  def forward(self, input):\n",
    "    '''\n",
    "    Performs a forward pass of the softmax layer using the given input.\n",
    "    Returns a 1d numpy array containing the respective probability values.\n",
    "    - input can be any array with any dimensions.\n",
    "    '''\n",
    "    self.last_input_shape = input.shape\n",
    "\n",
    "    input = input.flatten()\n",
    "    self.last_input = input\n",
    "\n",
    "    input_len, nodes = self.weights.shape\n",
    "\n",
    "    totals = np.dot(input, self.weights) + self.biases\n",
    "    self.last_totals = totals\n",
    "\n",
    "    exp = np.exp(totals)\n",
    "    return exp / np.sum(exp, axis=0)\n",
    "\n",
    "  def backprop(self, d_L_d_out, learn_rate):\n",
    "    '''\n",
    "    Performs a backward pass of the softmax layer.\n",
    "    Returns the loss gradient for this layer's inputs.\n",
    "    - d_L_d_out is the loss gradient for this layer's outputs.\n",
    "    - learn_rate is a float.\n",
    "    '''\n",
    "    # We know only 1 element of d_L_d_out will be nonzero\n",
    "    for i, gradient in enumerate(d_L_d_out):\n",
    "      if gradient == 0:\n",
    "        continue\n",
    "\n",
    "      # e^totals\n",
    "      t_exp = np.exp(self.last_totals)\n",
    "\n",
    "      # Sum of all e^totals\n",
    "      S = np.sum(t_exp)\n",
    "\n",
    "      # Gradients of out[i] against totals\n",
    "      d_out_d_t = -t_exp[i] * t_exp / (S ** 2)\n",
    "      d_out_d_t[i] = t_exp[i] * (S - t_exp[i]) / (S ** 2)\n",
    "\n",
    "      # Gradients of totals against weights/biases/input\n",
    "      d_t_d_w = self.last_input\n",
    "      d_t_d_b = 1\n",
    "      d_t_d_inputs = self.weights\n",
    "\n",
    "      # Gradients of loss against totals\n",
    "      d_L_d_t = gradient * d_out_d_t\n",
    "\n",
    "      # Gradients of loss against weights/biases/input\n",
    "      d_L_d_w = d_t_d_w[np.newaxis].T @ d_L_d_t[np.newaxis]\n",
    "      d_L_d_b = d_L_d_t * d_t_d_b\n",
    "      d_L_d_inputs = d_t_d_inputs @ d_L_d_t\n",
    "\n",
    "      # Update weights / biases\n",
    "      self.weights -= learn_rate * d_L_d_w\n",
    "      self.biases -= learn_rate * d_L_d_b\n",
    "\n",
    "      return d_L_d_inputs.reshape(self.last_input_shape)"
   ]
  },
  {
   "cell_type": "markdown",
   "metadata": {
    "id": "eUfIFMs-BN_A"
   },
   "source": []
  },
  {
   "cell_type": "code",
   "execution_count": 59,
   "metadata": {
    "colab": {
     "base_uri": "https://localhost:8080/"
    },
    "id": "f7YTx4fxYffA",
    "outputId": "f920207d-a172-403b-db37-91417196a0bb"
   },
   "outputs": [
    {
     "name": "stdout",
     "output_type": "stream",
     "text": [
      "MNIST CNN initialized!\n",
      "--- Epoch 1 ---\n",
      "[Step 100] Past 100 steps: Average Loss 0.391 | Accuracy: 85%\n",
      "[Step 200] Past 100 steps: Average Loss 0.087 | Accuracy: 100%\n",
      "--- Epoch 2 ---\n",
      "[Step 100] Past 100 steps: Average Loss 0.029 | Accuracy: 99%\n",
      "[Step 200] Past 100 steps: Average Loss 0.029 | Accuracy: 99%\n",
      "--- Epoch 3 ---\n",
      "[Step 100] Past 100 steps: Average Loss 0.012 | Accuracy: 99%\n",
      "[Step 200] Past 100 steps: Average Loss 0.023 | Accuracy: 98%\n",
      "\n",
      "--- Testing the CNN ---\n",
      "Test Loss: 0.013794284853140772\n",
      "Test Accuracy: 0.995260663507109\n"
     ]
    }
   ],
   "source": [
    "conv = Conv3x3(8)                  # 28x28x1 -> 26x26x8\n",
    "pool = MaxPool2()                  # 26x26x8 -> 13x13x8\n",
    "softmax = Softmax(13 * 13 * 8, 2) # 13x13x8 -> 10\n",
    "\n",
    "def forward(image, label):\n",
    "  '''\n",
    "  Completes a forward pass of the CNN and calculates the accuracy and\n",
    "  cross-entropy loss.\n",
    "  - image is a 2d numpy array\n",
    "  - label is a digit\n",
    "  '''\n",
    "  # We transform the image from [0, 255] to [-0.5, 0.5] to make it easier\n",
    "  # to work with. This is standard practice.\n",
    "  out = conv.forward((image / 255) - 0.5)\n",
    "  out = pool.forward(out)\n",
    "  out = softmax.forward(out)\n",
    "\n",
    "  # Calculate cross-entropy loss and accuracy. np.log() is the natural log.\n",
    "  loss = -np.log(out[label])\n",
    "  acc = 1 if np.argmax(out) == label else 0\n",
    "\n",
    "  return out, loss, acc\n",
    "\n",
    "def train(im, label, lr=.005):\n",
    "  '''\n",
    "  Completes a full training step on the given image and label.\n",
    "  Returns the cross-entropy loss and accuracy.\n",
    "  - image is a 2d numpy array\n",
    "  - label is a digit\n",
    "  - lr is the learning rate\n",
    "  '''\n",
    "  # Forward\n",
    "  out, loss, acc = forward(im, label)\n",
    "\n",
    "  # Calculate initial gradient\n",
    "  gradient = np.zeros(2)\n",
    "  gradient[label] = -1 / out[label]\n",
    "\n",
    "  # Backprop\n",
    "  gradient = softmax.backprop(gradient, lr)\n",
    "  gradient = pool.backprop(gradient)\n",
    "  gradient = conv.backprop(gradient, lr)\n",
    "\n",
    "  return loss, acc\n",
    "\n",
    "print('MNIST CNN initialized!')\n",
    "\n",
    "# Train the CNN for 3 epochs\n",
    "for epoch in range(3):\n",
    "  print('--- Epoch %d ---' % (epoch + 1))\n",
    "\n",
    "  # Shuffle the training data\n",
    "  permutation = np.random.permutation(len(train_images))\n",
    "  train_images = train_images[permutation]\n",
    "  train_labels = train_labels[permutation]\n",
    "\n",
    "  # Train!\n",
    "  loss = 0\n",
    "  num_correct = 0\n",
    "  for i, (im, label) in enumerate(zip(train_images, train_labels)):\n",
    "    if i % 100 == 99:\n",
    "      print(\n",
    "        '[Step %d] Past 100 steps: Average Loss %.3f | Accuracy: %d%%' %\n",
    "        (i + 1, loss / 100, num_correct)\n",
    "      )\n",
    "      loss = 0\n",
    "      num_correct = 0\n",
    "\n",
    "    l, acc = train(im, label)\n",
    "    loss += l\n",
    "    num_correct += acc\n",
    "\n",
    "# Test the CNN\n",
    "print('\\n--- Testing the CNN ---')\n",
    "loss = 0\n",
    "num_correct = 0\n",
    "output =[]\n",
    "for im, label in zip(test_images, test_labels):\n",
    "  out, l, acc = forward(im, label)\n",
    "  loss += l\n",
    "  output.append(np.argmax(out))\n",
    "  num_correct += acc\n",
    "\n",
    "num_tests = len(test_images)\n",
    "print('Test Loss:', loss / num_tests)\n",
    "print('Test Accuracy:', num_correct / num_tests)"
   ]
  },
  {
   "cell_type": "code",
   "execution_count": 60,
   "metadata": {
    "colab": {
     "base_uri": "https://localhost:8080/"
    },
    "id": "bI0Rz0l0efHX",
    "outputId": "53f853be-b403-45a3-c26e-9ab6820650e1"
   },
   "outputs": [
    {
     "name": "stdout",
     "output_type": "stream",
     "text": [
      "Original 5 test labels \n",
      " [1 0 1 0 0]\n",
      "\n",
      " Predicted 5 test labels \n",
      " [1 0 1 0 0]\n"
     ]
    }
   ],
   "source": [
    "print(\"Original 5 test labels \\n\", test_labels[:5] )\n",
    "print(\"\\n Predicted 5 test labels \\n\", (np.asarray(output))[:5])"
   ]
  },
  {
   "cell_type": "code",
   "execution_count": 45,
   "metadata": {
    "colab": {
     "base_uri": "https://localhost:8080/"
    },
    "id": "ok2gVeORb6gU",
    "outputId": "7cee40cb-8eed-457b-c628-dd3f1e1bb418"
   },
   "outputs": [
    {
     "name": "stdout",
     "output_type": "stream",
     "text": [
      "MNIST CNN initialized!\n",
      "--- Epoch 1 ---\n",
      "[Step 100] Past 100 steps: Average Loss 0.460 | Accuracy: 86%\n",
      "[Step 200] Past 100 steps: Average Loss 0.073 | Accuracy: 98%\n",
      "--- Epoch 2 ---\n",
      "[Step 100] Past 100 steps: Average Loss 0.022 | Accuracy: 99%\n",
      "[Step 200] Past 100 steps: Average Loss 0.034 | Accuracy: 100%\n",
      "--- Epoch 3 ---\n",
      "[Step 100] Past 100 steps: Average Loss 0.006 | Accuracy: 99%\n",
      "[Step 200] Past 100 steps: Average Loss 0.021 | Accuracy: 100%\n",
      "\n",
      "--- Testing the CNN ---\n",
      "Test Loss: 0.010996657530478602\n",
      "Test Accuracy: 1.0\n"
     ]
    }
   ],
   "source": [
    "# with number of filters reduced to 3\n",
    "\n",
    "conv = Conv3x3(3)                  # 28x28x1 -> 26x26x3\n",
    "pool = MaxPool2()                  # 26x26x8 -> 13x13x3\n",
    "softmax = Softmax(13 * 13 * 3, 2) # 13x13x8 -> 2\n",
    "\n",
    "def forward(image, label):\n",
    "  '''\n",
    "  Completes a forward pass of the CNN and calculates the accuracy and\n",
    "  cross-entropy loss.\n",
    "  - image is a 2d numpy array\n",
    "  - label is a digit\n",
    "  '''\n",
    "  # We transform the image from [0, 255] to [-0.5, 0.5] to make it easier\n",
    "  # to work with. This is standard practice.\n",
    "  out = conv.forward((image / 255) - 0.5)\n",
    "  out_pool = pool.forward(out)\n",
    "  out_fcc = softmax.forward(out_pool)\n",
    "\n",
    "  # Calculate cross-entropy loss and accuracy. np.log() is the natural log.\n",
    "  loss = -np.log(out_fcc[label])\n",
    "  acc = 1 if np.argmax(out_fcc) == label else 0\n",
    "\n",
    "  return out,out_pool,out_fcc, loss, acc\n",
    "\n",
    "def train(im, label, lr=.005):\n",
    "  '''\n",
    "  Completes a full training step on the given image and label.\n",
    "  Returns the cross-entropy loss and accuracy.\n",
    "  - image is a 2d numpy array\n",
    "  - label is a digit\n",
    "  - lr is the learning rate\n",
    "  '''\n",
    "  # Forward\n",
    "  out,out_pool,out_fcc, loss, acc = forward(im, label)\n",
    "\n",
    "  # Calculate initial gradient\n",
    "  gradient = np.zeros(10)\n",
    "  gradient[label] = -1 / out_fcc[label]\n",
    "\n",
    "  # Backprop\n",
    "  gradient = softmax.backprop(gradient, lr)\n",
    "  gradient = pool.backprop(gradient)\n",
    "  gradient = conv.backprop(gradient, lr)\n",
    "\n",
    "  return loss, acc, out, out_pool, out_fcc\n",
    "\n",
    "print('MNIST CNN initialized!')\n",
    "\n",
    "# Train the CNN for 3 epochs\n",
    "for epoch in range(3):\n",
    "  print('--- Epoch %d ---' % (epoch + 1))\n",
    "\n",
    "  # Shuffle the training data\n",
    "  permutation = np.random.permutation(len(train_images))\n",
    "  train_images = train_images[permutation]\n",
    "  train_labels = train_labels[permutation]\n",
    "\n",
    "  # Train!\n",
    "  loss = 0\n",
    "  num_correct = 0\n",
    "  for i, (im, label) in enumerate(zip(train_images, train_labels)):\n",
    "    if i % 100 == 99:\n",
    "      print(\n",
    "        '[Step %d] Past 100 steps: Average Loss %.3f | Accuracy: %d%%' %\n",
    "        (i + 1, loss / 100, num_correct)\n",
    "      )\n",
    "      loss = 0\n",
    "      num_correct = 0\n",
    "\n",
    "    l, acc, out, out_pool, out_fcc = train(im, label)\n",
    "    loss += l\n",
    "    num_correct += acc\n",
    "\n",
    "# Test the CNN\n",
    "print('\\n--- Testing the CNN ---')\n",
    "loss = 0\n",
    "num_correct = 0\n",
    "for im, label in zip(test_images, test_labels):\n",
    "  out, out_pool, out_fcc, l, acc = forward(im, label)\n",
    "  loss += l\n",
    "  num_correct += acc\n",
    "\n",
    "num_tests = len(test_images)\n",
    "print('Test Loss:', loss / num_tests)\n",
    "print('Test Accuracy:', num_correct / num_tests)"
   ]
  },
  {
   "cell_type": "markdown",
   "metadata": {
    "id": "iIqT7juOGUk6"
   },
   "source": []
  },
  {
   "cell_type": "markdown",
   "metadata": {
    "id": "WJtzf9JbG3uZ"
   },
   "source": [
    "**Layerwise Outputs**"
   ]
  },
  {
   "cell_type": "code",
   "execution_count": 48,
   "metadata": {
    "colab": {
     "base_uri": "https://localhost:8080/",
     "height": 334
    },
    "id": "OVDVCBZRrR3Y",
    "outputId": "c40d30b4-0150-4b42-891c-ae43b0ab2a22"
   },
   "outputs": [
    {
     "name": "stderr",
     "output_type": "stream",
     "text": [
      "Clipping input data to the valid range for imshow with RGB data ([0..1] for floats or [0..255] for integers).\n"
     ]
    },
    {
     "name": "stdout",
     "output_type": "stream",
     "text": [
      "Output of Convolutional layer\n",
      "Shape (26, 26, 3)\n"
     ]
    },
    {
     "data": {
      "text/plain": [
       "<matplotlib.image.AxesImage at 0x7f9b91a14190>"
      ]
     },
     "execution_count": 48,
     "metadata": {},
     "output_type": "execute_result"
    },
    {
     "data": {
      "image/png": "[encoded data removed]",
      "text/plain": [
       "<Figure size 432x288 with 1 Axes>"
      ]
     },
     "metadata": {
      "needs_background": "light"
     },
     "output_type": "display_data"
    }
   ],
   "source": [
    "print(\"Output of Convolutional layer\")\n",
    "print(\"Shape\", out.shape)\n",
    "plt.imshow(out)"
   ]
  },
  {
   "cell_type": "code",
   "execution_count": 49,
   "metadata": {
    "colab": {
     "base_uri": "https://localhost:8080/",
     "height": 317
    },
    "id": "h5E3pMqVrFmg",
    "outputId": "53bcfac3-2a60-44dd-ab06-067f111472f1"
   },
   "outputs": [
    {
     "name": "stderr",
     "output_type": "stream",
     "text": [
      "Clipping input data to the valid range for imshow with RGB data ([0..1] for floats or [0..255] for integers).\n"
     ]
    },
    {
     "name": "stdout",
     "output_type": "stream",
     "text": [
      "(13, 13, 3)\n"
     ]
    },
    {
     "data": {
      "text/plain": [
       "<matplotlib.image.AxesImage at 0x7f9b91980f50>"
      ]
     },
     "execution_count": 49,
     "metadata": {},
     "output_type": "execute_result"
    },
    {
     "data": {
      "image/png": "[encoded data removed]",
      "text/plain": [
       "<Figure size 432x288 with 1 Axes>"
      ]
     },
     "metadata": {
      "needs_background": "light"
     },
     "output_type": "display_data"
    }
   ],
   "source": [
    "import matplotlib.pyplot as plt\n",
    "print(out_pool.shape)\n",
    "plt.imshow(out_pool)"
   ]
  },
  {
   "cell_type": "code",
   "execution_count": 50,
   "metadata": {
    "colab": {
     "base_uri": "https://localhost:8080/",
     "height": 300
    },
    "id": "Ek09QRtFrXIZ",
    "outputId": "7631c929-d1ca-4312-f8b0-222c5d906079"
   },
   "outputs": [
    {
     "name": "stdout",
     "output_type": "stream",
     "text": [
      "original image\n"
     ]
    },
    {
     "data": {
      "text/plain": [
       "<matplotlib.image.AxesImage at 0x7f9b91901090>"
      ]
     },
     "execution_count": 50,
     "metadata": {},
     "output_type": "execute_result"
    },
    {
     "data": {
      "image/png": "[encoded data removed]",
      "text/plain": [
       "<Figure size 432x288 with 1 Axes>"
      ]
     },
     "metadata": {
      "needs_background": "light"
     },
     "output_type": "display_data"
    }
   ],
   "source": [
    "print(\"original image\")\n",
    "plt.imshow(test_images[1])"
   ]
  },
  {
   "cell_type": "code",
   "execution_count": null,
   "metadata": {
    "id": "orG-Ahciay8_"
   },
   "outputs": [],
   "source": [
    "import matplotlib.pyplot as plt\n",
    "im = test_images[1]\n",
    "o = conv.forward((im / 255) - 0.5)\n",
    "op = pool.forward(o)\n",
    "os = softmax.forward(op)"
   ]
  },
  {
   "cell_type": "code",
   "execution_count": null,
   "metadata": {
    "colab": {
     "base_uri": "https://localhost:8080/",
     "height": 300
    },
    "id": "sMg5iaEatUG7",
    "outputId": "5053df44-3c8c-48bf-cc3b-8277461174de"
   },
   "outputs": [
    {
     "name": "stderr",
     "output_type": "stream",
     "text": [
      "Clipping input data to the valid range for imshow with RGB data ([0..1] for floats or [0..255] for integers).\n"
     ]
    },
    {
     "data": {
      "text/plain": [
       "<matplotlib.image.AxesImage at 0x7f9b954ff890>"
      ]
     },
     "execution_count": 19,
     "metadata": {},
     "output_type": "execute_result"
    },
    {
     "data": {
      "image/png": "[encoded data removed]",
      "text/plain": [
       "<Figure size 432x288 with 1 Axes>"
      ]
     },
     "metadata": {
      "needs_background": "light"
     },
     "output_type": "display_data"
    }
   ],
   "source": [
    "plt.imshow(o)"
   ]
  },
  {
   "cell_type": "code",
   "execution_count": null,
   "metadata": {
    "colab": {
     "base_uri": "https://localhost:8080/",
     "height": 300
    },
    "id": "JIIYvatFQtcV",
    "outputId": "4b6870b2-f892-41d3-d8f1-3be2892f849d"
   },
   "outputs": [
    {
     "name": "stderr",
     "output_type": "stream",
     "text": [
      "Clipping input data to the valid range for imshow with RGB data ([0..1] for floats or [0..255] for integers).\n"
     ]
    },
    {
     "data": {
      "text/plain": [
       "<matplotlib.image.AxesImage at 0x7f9b95455950>"
      ]
     },
     "execution_count": 20,
     "metadata": {},
     "output_type": "execute_result"
    },
    {
     "data": {
      "image/png": "[encoded data removed]",
      "text/plain": [
       "<Figure size 432x288 with 1 Axes>"
      ]
     },
     "metadata": {
      "needs_background": "light"
     },
     "output_type": "display_data"
    }
   ],
   "source": [
    "plt.imshow(op)"
   ]
  },
  {
   "cell_type": "markdown",
   "metadata": {
    "id": "rDWuyKD0GECk"
   },
   "source": [
    "# **Translational Invariance**"
   ]
  },
  {
   "cell_type": "code",
   "execution_count": null,
   "metadata": {
    "id": "YfPQkyZhSn1l"
   },
   "outputs": [],
   "source": [
    "import tensorflow as tf"
   ]
  },
  {
   "cell_type": "code",
   "execution_count": 30,
   "metadata": {
    "colab": {
     "base_uri": "https://localhost:8080/",
     "height": 216
    },
    "id": "p1gE5m9cQxfZ",
    "outputId": "7cdd1544-9f12-412e-e64e-7bc9d4540769"
   },
   "outputs": [
    {
     "data": {
      "image/png": "[encoded data removed]",
      "text/plain": [
       "<Figure size 432x288 with 2 Axes>"
      ]
     },
     "metadata": {
      "needs_background": "light"
     },
     "output_type": "display_data"
    }
   ],
   "source": [
    "\n",
    "image= test_images[0].reshape(28,28,1)\n",
    "label = test_labels[0]\n",
    "def visualize(original, augmented):\n",
    "    fig = pyplot.figure()\n",
    "    pyplot.subplot(1,2,1)\n",
    "    pyplot.title('Original image')\n",
    "    pyplot.imshow(original)\n",
    "\n",
    "    pyplot.subplot(1,2,2)\n",
    "    pyplot.title('Augmented image')\n",
    "    pyplot.imshow(augmented)\n",
    "\n",
    "flipped = tf.image.flip_left_right(image)\n",
    "flipped=  np.array(flipped)\n",
    "image=image.reshape(28,28)\n",
    "flipped=flipped.reshape(28,28)\n",
    "visualize(image, flipped)"
   ]
  },
  {
   "cell_type": "code",
   "execution_count": 34,
   "metadata": {
    "colab": {
     "base_uri": "https://localhost:8080/"
    },
    "id": "HgzJYc1cseOP",
    "outputId": "d2c5cf89-f3f7-422d-a4ef-86e3c0548af2"
   },
   "outputs": [
    {
     "name": "stdout",
     "output_type": "stream",
     "text": [
      "loss for original image: 0.0020418647488202302 \n",
      " accuracy for original image: 1 \n",
      "predicted output for original:  1\n",
      "\n",
      " loss for augmented image: 0.014636098706283797 \n",
      " accuracy for augmented image: 1 \n",
      "predicted output for augmented:  1\n"
     ]
    }
   ],
   "source": [
    "out, out_pool, out_fcc, l, acc = forward(image, label)\n",
    "print(\"loss for original image:\", l, \"\\n accuracy for original image:\",acc, \"\\npredicted output for original: \", np.argmax(out_fcc))\n",
    "out, out_pool, out_fcc, l, acc = forward(flipped, label)\n",
    "print(\"\\n loss for augmented image:\", l, \"\\n accuracy for augmented image:\",acc, \"\\npredicted output for augmented: \", np.argmax(out_fcc))"
   ]
  },
  {
   "cell_type": "markdown",
   "metadata": {
    "id": "y57KAn1gHCNt"
   },
   "source": []
  },
  {
   "cell_type": "code",
   "execution_count": 25,
   "metadata": {
    "colab": {
     "base_uri": "https://localhost:8080/",
     "height": 565
    },
    "id": "g_JanaRdT-8W",
    "outputId": "e75cdf7a-4bc1-47fd-bd34-d96d0a15a646"
   },
   "outputs": [
    {
     "name": "stderr",
     "output_type": "stream",
     "text": [
      "Clipping input data to the valid range for imshow with RGB data ([0..1] for floats or [0..255] for integers).\n",
      "Clipping input data to the valid range for imshow with RGB data ([0..1] for floats or [0..255] for integers).\n"
     ]
    },
    {
     "data": {
      "text/plain": [
       "<matplotlib.image.AxesImage at 0x7f9b92bd4f90>"
      ]
     },
     "execution_count": 25,
     "metadata": {},
     "output_type": "execute_result"
    },
    {
     "data": {
      "image/png": "[encoded data removed]",
      "text/plain": [
       "<Figure size 432x288 with 1 Axes>"
      ]
     },
     "metadata": {
      "needs_background": "light"
     },
     "output_type": "display_data"
    },
    {
     "data": {
      "image/png": "[encoded data removed]",
      "text/plain": [
       "<Figure size 432x288 with 1 Axes>"
      ]
     },
     "metadata": {
      "needs_background": "light"
     },
     "output_type": "display_data"
    }
   ],
   "source": [
    "o = conv.forward((image / 255) - 0.5)\n",
    "op = pool.forward(o)\n",
    "os = softmax.forward(op)\n",
    "plt.figure()\n",
    "plt.imshow(o)\n",
    "plt.figure()\n",
    "plt.imshow(op)"
   ]
  },
  {
   "cell_type": "code",
   "execution_count": 26,
   "metadata": {
    "colab": {
     "base_uri": "https://localhost:8080/",
     "height": 565
    },
    "id": "YfWwpX3nUeBS",
    "outputId": "0feefe03-0e5b-4f19-ad3d-2c74dae076ad"
   },
   "outputs": [
    {
     "name": "stderr",
     "output_type": "stream",
     "text": [
      "Clipping input data to the valid range for imshow with RGB data ([0..1] for floats or [0..255] for integers).\n",
      "Clipping input data to the valid range for imshow with RGB data ([0..1] for floats or [0..255] for integers).\n"
     ]
    },
    {
     "data": {
      "text/plain": [
       "<matplotlib.image.AxesImage at 0x7f9b92bb0110>"
      ]
     },
     "execution_count": 26,
     "metadata": {},
     "output_type": "execute_result"
    },
    {
     "data": {
      "image/png": "[encoded data removed]",
      "text/plain": [
       "<Figure size 432x288 with 1 Axes>"
      ]
     },
     "metadata": {
      "needs_background": "light"
     },
     "output_type": "display_data"
    },
    {
     "data": {
      "image/png": "[encoded data removed]",
      "text/plain": [
       "<Figure size 432x288 with 1 Axes>"
      ]
     },
     "metadata": {
      "needs_background": "light"
     },
     "output_type": "display_data"
    }
   ],
   "source": [
    "o = conv.forward((flipped / 255) - 0.5)\n",
    "op = pool.forward(o)\n",
    "os = softmax.forward(op)\n",
    "plt.figure()\n",
    "plt.imshow(o)\n",
    "plt.figure()\n",
    "plt.imshow(op)"
   ]
  },
  {
   "cell_type": "code",
   "execution_count": 51,
   "metadata": {
    "colab": {
     "base_uri": "https://localhost:8080/"
    },
    "id": "oHU9gQJcajBF",
    "outputId": "4e407d1c-6ca4-4164-a7b5-c59d5b44b4ac"
   },
   "outputs": [
    {
     "name": "stdout",
     "output_type": "stream",
     "text": [
      "(213, 28, 28)\n"
     ]
    }
   ],
   "source": [
    "# shifted data training\n",
    "shiftedXTrain = np.concatenate((train_images[:,:,2:],np.zeros((train_images.shape[0],28,2))) , axis = 2)\n",
    "shiftedYTrain = train_labels\n",
    "\n",
    "shiftedXTest = np.concatenate((test_images[:,:,2:],np.zeros((test_images.shape[0],28,2))) , axis = 2)\n",
    "shiftedYTest = test_labels\n",
    "print(shiftedXTrain.shape)"
   ]
  },
  {
   "cell_type": "code",
   "execution_count": 54,
   "metadata": {
    "colab": {
     "base_uri": "https://localhost:8080/",
     "height": 565
    },
    "id": "eDz6PMKlcIM4",
    "outputId": "d9840d8c-de3d-4c53-c128-69692e56af10"
   },
   "outputs": [
    {
     "name": "stdout",
     "output_type": "stream",
     "text": [
      "(28, 28)\n",
      "(28, 28)\n"
     ]
    },
    {
     "data": {
      "text/plain": [
       "<matplotlib.image.AxesImage at 0x7f9b917124d0>"
      ]
     },
     "execution_count": 54,
     "metadata": {},
     "output_type": "execute_result"
    },
    {
     "data": {
      "image/png": "[encoded data removed]",
      "text/plain": [
       "<Figure size 432x288 with 1 Axes>"
      ]
     },
     "metadata": {
      "needs_background": "light"
     },
     "output_type": "display_data"
    },
    {
     "data": {
      "image/png": "[encoded data removed]",
      "text/plain": [
       "<Figure size 432x288 with 1 Axes>"
      ]
     },
     "metadata": {
      "needs_background": "light"
     },
     "output_type": "display_data"
    }
   ],
   "source": [
    "print(train_images[1].shape)\n",
    "plt.imshow(train_images[1])\n",
    "plt.figure()\n",
    "print(shiftedXTrain[1].shape)\n",
    "plt.imshow(shiftedXTrain[1])"
   ]
  },
  {
   "cell_type": "markdown",
   "metadata": {
    "id": "GYm_mxq8g9Nf"
   },
   "source": [
    "**Translational invariance by training through shifted train and test data**"
   ]
  },
  {
   "cell_type": "code",
   "execution_count": 61,
   "metadata": {
    "colab": {
     "base_uri": "https://localhost:8080/"
    },
    "id": "hp8zrO17bsZu",
    "outputId": "5c2a6fdc-a2fc-4300-e8b6-06d559b28d0e"
   },
   "outputs": [
    {
     "name": "stdout",
     "output_type": "stream",
     "text": [
      "MNIST CNN initialized!\n",
      "--- Epoch 1 ---\n",
      "[Step 100] Past 100 steps: Average Loss 0.507 | Accuracy: 79%\n",
      "[Step 200] Past 100 steps: Average Loss 0.105 | Accuracy: 98%\n",
      "--- Epoch 2 ---\n",
      "[Step 100] Past 100 steps: Average Loss 0.018 | Accuracy: 99%\n",
      "[Step 200] Past 100 steps: Average Loss 0.034 | Accuracy: 99%\n",
      "--- Epoch 3 ---\n",
      "[Step 100] Past 100 steps: Average Loss 0.006 | Accuracy: 99%\n",
      "[Step 200] Past 100 steps: Average Loss 0.021 | Accuracy: 99%\n",
      "\n",
      "--- Testing the CNN ---\n",
      "Test Loss: 0.010652602357751274\n",
      "Test Accuracy: 1.0\n"
     ]
    }
   ],
   "source": [
    "# with number of filters reduced to 3\n",
    "\n",
    "conv = Conv3x3(3)                  # 28x28x1 -> 26x26x3\n",
    "pool = MaxPool2()                  # 26x26x8 -> 13x13x3\n",
    "softmax = Softmax(13 * 13 * 3, 2) # 13x13x8 -> 2\n",
    "\n",
    "def forward(image, label):\n",
    "  '''\n",
    "  Completes a forward pass of the CNN and calculates the accuracy and\n",
    "  cross-entropy loss.\n",
    "  - image is a 2d numpy array\n",
    "  - label is a digit\n",
    "  '''\n",
    "  # We transform the image from [0, 255] to [-0.5, 0.5] to make it easier\n",
    "  # to work with. This is standard practice.\n",
    "  out = conv.forward((image / 255) - 0.5)\n",
    "  out_pool = pool.forward(out)\n",
    "  out_fcc = softmax.forward(out_pool)\n",
    "\n",
    "  # Calculate cross-entropy loss and accuracy. np.log() is the natural log.\n",
    "  loss = -np.log(out_fcc[label])\n",
    "  acc = 1 if np.argmax(out_fcc) == label else 0\n",
    "\n",
    "  return out,out_pool,out_fcc, loss, acc\n",
    "\n",
    "def train(im, label, lr=.005):\n",
    "  '''\n",
    "  Completes a full training step on the given image and label.\n",
    "  Returns the cross-entropy loss and accuracy.\n",
    "  - image is a 2d numpy array\n",
    "  - label is a digit\n",
    "  - lr is the learning rate\n",
    "  '''\n",
    "  # Forward\n",
    "  out,out_pool,out_fcc, loss, acc = forward(im, label)\n",
    "\n",
    "  # Calculate initial gradient\n",
    "  gradient = np.zeros(10)\n",
    "  gradient[label] = -1 / out_fcc[label]\n",
    "\n",
    "  # Backprop\n",
    "  gradient = softmax.backprop(gradient, lr)\n",
    "  gradient = pool.backprop(gradient)\n",
    "  gradient = conv.backprop(gradient, lr)\n",
    "\n",
    "  return loss, acc, out, out_pool, out_fcc\n",
    "\n",
    "print('MNIST CNN initialized!')\n",
    "\n",
    "# Train the CNN for 3 epochs\n",
    "for epoch in range(3):\n",
    "  print('--- Epoch %d ---' % (epoch + 1))\n",
    "\n",
    "  # Shuffle the training data\n",
    "  permutation = np.random.permutation(len(shiftedXTrain))\n",
    "  train_images = train_images[permutation]\n",
    "  train_labels = train_labels[permutation]\n",
    "\n",
    "  # Train!\n",
    "  loss = 0\n",
    "  num_correct = 0\n",
    "  for i, (im, label) in enumerate(zip(shiftedXTrain, shiftedYTrain)):\n",
    "    if i % 100 == 99:\n",
    "      print(\n",
    "        '[Step %d] Past 100 steps: Average Loss %.3f | Accuracy: %d%%' %\n",
    "        (i + 1, loss / 100, num_correct)\n",
    "      )\n",
    "      loss = 0\n",
    "      num_correct = 0\n",
    "\n",
    "    l, acc, out, out_pool, out_fcc = train(im, label)\n",
    "    loss += l\n",
    "    num_correct += acc\n",
    "\n",
    "# Test the CNN\n",
    "print('\\n--- Testing the CNN ---')\n",
    "loss = 0\n",
    "num_correct = 0\n",
    "output = []\n",
    "for im, label in zip(shiftedXTest, shiftedYTest):\n",
    "  out, out_pool, out_fcc, l, acc = forward(im, label)\n",
    "  loss += l\n",
    "  output.append(np.argmax(out_fcc))\n",
    "  num_correct += acc\n",
    "\n",
    "num_tests = len(shiftedYTest)\n",
    "print('Test Loss:', loss / num_tests)\n",
    "print('Test Accuracy:', num_correct / num_tests)"
   ]
  },
  {
   "cell_type": "code",
   "execution_count": 62,
   "metadata": {
    "colab": {
     "base_uri": "https://localhost:8080/"
    },
    "id": "waDzuGo3e7xx",
    "outputId": "e43fe71e-01be-4914-a11e-8a05a002fd32"
   },
   "outputs": [
    {
     "name": "stdout",
     "output_type": "stream",
     "text": [
      "Original 5 test labels \n",
      " [1 0 1 0 0]\n",
      "\n",
      " Predicted 5 test labels \n",
      " [1 0 1 0 0]\n"
     ]
    }
   ],
   "source": [
    "print(\"Original 5 test labels \\n\", shiftedYTest[:5] )\n",
    "print(\"\\n Predicted 5 test labels \\n\", (np.asarray(output))[:5])"
   ]
  },
  {
   "cell_type": "markdown",
   "metadata": {
    "id": "vgFE_Om6gxLP"
   },
   "source": []
  },
  {
   "cell_type": "code",
   "execution_count": null,
   "metadata": {},
   "outputs": [],
   "source": []
  }
 ],
 "metadata": {
  "colab": {
   "collapsed_sections": [],
   "name": "Spring_22_NNDL_Lab_5_Jyoti_Shukla.ipynb",
   "provenance": []
  },
  "kernelspec": {
   "display_name": "Python 3 (ipykernel)",
   "language": "python",
   "name": "python3"
  },
  "language_info": {
   "codemirror_mode": {
    "name": "ipython",
    "version": 3
   },
   "file_extension": ".py",
   "mimetype": "text/x-python",
   "name": "python",
   "nbconvert_exporter": "python",
   "pygments_lexer": "ipython3",
   "version": "3.7.11"
  }
 },
 "nbformat": 4,
 "nbformat_minor": 1
}
